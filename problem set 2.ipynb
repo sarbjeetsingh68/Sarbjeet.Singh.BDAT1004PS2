{
 "cells": [
  {
   "cell_type": "markdown",
   "id": "5621b6b6",
   "metadata": {},
   "source": [
    "# Question 1 \n",
    "What value is displayed when the last expression (a) is evaluated? Explain your \n",
    "answer by indicating what happens in every executed statement"
   ]
  },
  {
   "cell_type": "code",
   "execution_count": 1,
   "id": "37ea23b6",
   "metadata": {},
   "outputs": [],
   "source": [
    "a = 0\n",
    "def b():\n",
    "    global a\n",
    "    a = c(a)\n",
    "def c(a):\n",
    "    return a + 2\n",
    "b()\n",
    "b()\n",
    "b()\n",
    "a"
   ]
  },
  {
   "cell_type": "markdown",
   "id": "d09fd4e0",
   "metadata": {},
   "source": [
    "# Explanation for Question 1\n",
    "\n",
    "Value of a will be 6 when last expression a calling.\n",
    " executed Steps\n",
    "1).a = 0\n",
    "2).called function b(), value of a = 0\n",
    "3).called function c(a),return value (a+2)=(0+2)=2\n",
    "4).called function b() second time a = c(a),this time value of 'a'=  2\n",
    "5).called function c(a) ,return value (a+2)=(2+2)=4\n",
    "6).called function b() third time a = c(a),now value of 'a' = 4\n",
    "7).called function c(a) ,return value (a+2) =(4+2)=6\n",
    "8)called function b() last time,value of 'a' = 6\n",
    "9).print a value is 6\n"
   ]
  },
  {
   "cell_type": "markdown",
   "id": "a569ff3e",
   "metadata": {},
   "source": [
    "# Question 2 \n",
    "Function fileLength(), given to you, takes the name of a file as input and returns \n",
    "the length of the file:\n",
    ">>> fileLength('midterm.py')\n",
    "284\n",
    ">>> fileLength('idterm.py')\n",
    "Traceback (most recent call last):\n",
    "File \"<pyshell#34>\", line 1, in <module>\n",
    " fileLength('idterm.py')\n",
    "File \"/Users/me/midterm.py\", line 3, in fileLength\n",
    " infile = open(filename)\n",
    "FileNotFoundError: [Errno 2] No such file or directory: \n",
    "'idterm.py'\n",
    "As shown above, if the file cannot be found by the interpreter or if it cannot be read \n",
    "as a text file, an exception will be raised. Modify function fileLength() so that a \n",
    "friendly message is printed instead:\n",
    ">>> fileLength('midterm.py')\n",
    "358\n",
    ">>> fileLength('idterm.py')\n",
    "File idterm.py not found."
   ]
  },
  {
   "cell_type": "code",
   "execution_count": 505,
   "id": "70934b42",
   "metadata": {},
   "outputs": [],
   "source": [
    "f= open(\"midterm.py\",\"w+\")\n",
    "for i in range(11):\n",
    "     f.write(\"Hello World!Here I'm Sarbjeet%d\\r\\n \" % (i+1))"
   ]
  },
  {
   "cell_type": "code",
   "execution_count": 506,
   "id": "ec4ce585",
   "metadata": {},
   "outputs": [],
   "source": [
    "def fileLength(filename):\n",
    "        try:\n",
    "                f=open(filename,'r')\n",
    "                data=f.readlines()\n",
    "                line=\"\"\n",
    "                for i in data:\n",
    "                        line+=i\n",
    "                result=len(line)\n",
    "                return result\n",
    "        except FileNotFoundError:\n",
    "                return (\"File {} not found.\".format(filename))"
   ]
  },
  {
   "cell_type": "code",
   "execution_count": 507,
   "id": "7a6c53a2",
   "metadata": {},
   "outputs": [
    {
     "name": "stdout",
     "output_type": "stream",
     "text": [
      "365\n",
      "File idterm.py not found.\n"
     ]
    }
   ],
   "source": [
    "print(fileLength(('midterm.py')))\n",
    "print(fileLength('idterm.py'))"
   ]
  },
  {
   "cell_type": "markdown",
   "id": "3c00e9cf",
   "metadata": {},
   "source": [
    "# Question 3\n",
    "Write a class named Marsupial that can be used as shown below:\n",
    "Now write a class named Kangaroo as a subclass of Marsupial that inherits all the \n",
    "attributes of Marsupial and also:\n",
    "a. extends the Marsupial __init__ constructor to take, as input, the \n",
    "coordinates x and y of the Kangaroo object,\n",
    "b. supports method jump that takes number values dx and dy as input and \n",
    "moves the kangaroo by dx units along the x-axis and by dy units along the y\u0002axis, and\n",
    "c. overloads the __str__ operator so it behaves as shown below."
   ]
  },
  {
   "cell_type": "code",
   "execution_count": 459,
   "id": "e4ce9271",
   "metadata": {},
   "outputs": [],
   "source": [
    "class Marsupial(): \n",
    "    def __init__(self):\n",
    "        self.myList = []\n",
    "    def put_in_pouch(self,item):\n",
    "        self.myList.append(item)\n",
    "    def pouch_contents(self):\n",
    "        return self.myList\n",
    "\n",
    "class Kangaroo(Marsupial):\n",
    "    #part (a)extends the Marsupial __init__ constructor to take, as input, the coordinates x and y of the Kangaroo object \n",
    "    def __init__(self,x,y):\n",
    "        Marsupial.__init__(self)\n",
    "        self.x = x\n",
    "        self.y = y\n",
    "    #part (b)supports method jump that takes number values dx and dy as input and moves the kangaroo by dx units along the x-axis and by dy units along the y\u0002axis \n",
    "    def jump(self,ax,ay):\n",
    "        self.x += ax\n",
    "        self.y += ay\n",
    "        #part (c) overloads the __str__ operator\n",
    "    def __str__(self):\n",
    "        return \"I am a Kangaroo located at co-ordinates ({},{})\".format(self.x,self.y)"
   ]
  },
  {
   "cell_type": "code",
   "execution_count": 8,
   "id": "a90e1c0e",
   "metadata": {},
   "outputs": [
    {
     "name": "stdout",
     "output_type": "stream",
     "text": [
      "I am a Kangaroo located at co-ordinates (0,0)\n"
     ]
    }
   ],
   "source": [
    "m = Marsupial()\n",
    "m.put_in_pouch('doll')\n",
    "m.put_in_pouch('firetruck')\n",
    "m.put_in_pouch('kitten')\n",
    "m.pouch_contents()\n",
    "\n",
    "k = Kangaroo(0,0)\n",
    "print(k)"
   ]
  },
  {
   "cell_type": "code",
   "execution_count": 6,
   "id": "04adbae2",
   "metadata": {},
   "outputs": [
    {
     "name": "stdout",
     "output_type": "stream",
     "text": [
      "I am a Kangaroo located at co-ordinates (3,0)\n"
     ]
    }
   ],
   "source": [
    "k.put_in_pouch('doll')\n",
    "k.put_in_pouch('firetruck')\n",
    "k.put_in_pouch('kitten')\n",
    "k.pouch_contents()\n",
    "k.jump(1,0)\n",
    "k.jump(1,0)\n",
    "k.jump(1,0)\n",
    "\n",
    "print(k)"
   ]
  },
  {
   "cell_type": "markdown",
   "id": "65c9a669",
   "metadata": {},
   "source": [
    "# Question 4\n",
    "Write function collatz() that takes a positive integer x as input and prints the \n",
    "Collatz sequence starting at x. A Collatz sequence is obtained by repeatedly applying \n",
    "this rule to the previous number x in the sequence:\n",
    "x = {\n",
    "𝑥/2 𝑖𝑓 𝑥 𝑖𝑠 𝑒𝑣𝑒𝑛\n",
    "3𝑥 + 1 𝑖𝑓 𝑥 𝑖𝑠 𝑜𝑑𝑑\n",
    "Your function should stop when the sequence gets to number 1. Your \n",
    "implementation must be recursive, without any loops"
   ]
  },
  {
   "cell_type": "code",
   "execution_count": 10,
   "id": "1f184b31",
   "metadata": {},
   "outputs": [],
   "source": [
    "def collatz(x):\n",
    "    myList = [x]\n",
    "    if x == 1:\n",
    "        return [1]\n",
    "    elif x % 2 ==0:\n",
    "        myList.extend(collatz(x//2))\n",
    "    else:\n",
    "        myList.extend(collatz(x*3+1))\n",
    "    return myList"
   ]
  },
  {
   "cell_type": "code",
   "execution_count": 11,
   "id": "736faae0",
   "metadata": {},
   "outputs": [
    {
     "data": {
      "text/plain": [
       "[1]"
      ]
     },
     "execution_count": 11,
     "metadata": {},
     "output_type": "execute_result"
    }
   ],
   "source": [
    "collatz(1)"
   ]
  },
  {
   "cell_type": "code",
   "execution_count": 12,
   "id": "7a71a619",
   "metadata": {},
   "outputs": [
    {
     "data": {
      "text/plain": [
       "[10, 5, 16, 8, 4, 2, 1]"
      ]
     },
     "execution_count": 12,
     "metadata": {},
     "output_type": "execute_result"
    }
   ],
   "source": [
    "collatz(10)"
   ]
  },
  {
   "cell_type": "markdown",
   "id": "7bdd25e1",
   "metadata": {},
   "source": [
    "# Question 5 \n",
    "Write a recursive method binary() that takes a non-negative \n",
    "integer n and prints the binary representation of integer n."
   ]
  },
  {
   "cell_type": "code",
   "execution_count": 13,
   "id": "1c910cda",
   "metadata": {},
   "outputs": [],
   "source": [
    "def binary(n):\n",
    "    \n",
    "    if n > 1:\n",
    "        binary(n//2)\n",
    "    print(n % 2,end = '')"
   ]
  },
  {
   "cell_type": "code",
   "execution_count": 14,
   "id": "56e3f956",
   "metadata": {},
   "outputs": [
    {
     "name": "stdout",
     "output_type": "stream",
     "text": [
      "0"
     ]
    }
   ],
   "source": [
    "binary (0)"
   ]
  },
  {
   "cell_type": "code",
   "execution_count": 15,
   "id": "45a2be87",
   "metadata": {},
   "outputs": [
    {
     "name": "stdout",
     "output_type": "stream",
     "text": [
      "1"
     ]
    }
   ],
   "source": [
    "binary (1)"
   ]
  },
  {
   "cell_type": "code",
   "execution_count": 16,
   "id": "57a32ba9",
   "metadata": {},
   "outputs": [
    {
     "name": "stdout",
     "output_type": "stream",
     "text": [
      "11"
     ]
    }
   ],
   "source": [
    "binary (3)"
   ]
  },
  {
   "cell_type": "code",
   "execution_count": 17,
   "id": "bf654cf7",
   "metadata": {},
   "outputs": [
    {
     "name": "stdout",
     "output_type": "stream",
     "text": [
      "1001"
     ]
    }
   ],
   "source": [
    "binary (9)"
   ]
  },
  {
   "cell_type": "markdown",
   "id": "5efa86d7",
   "metadata": {},
   "source": [
    "# Question 6\n",
    "Implement a class named HeadingParser that can be used to parse an HTML \n",
    "document, and retrieve and print all the headings in the document. You should \n",
    "implement your class as a subclass of HTMLParser, defined in Standard Library \n",
    "module html.parser. When fed a string containing HTML code, your class should \n",
    "print the headings, one per line and in the order in which they appear in the \n",
    "document. Each heading should be indented as follows: an h1 heading should have indentation 0, and h2 heading should have indentation 1, etc. Test your \n",
    "implementation using w3c.html."
   ]
  },
  {
   "cell_type": "code",
   "execution_count": 17,
   "id": "fd5341b7",
   "metadata": {},
   "outputs": [],
   "source": [
    "f = open('w3c.html','w')\n",
    "html_template = \"\"\"<html>\n",
    "<body>\n",
    "W3C Mission\n",
    "Principles\n",
    "</body>\n",
    "</html>\n",
    "\"\"\"\n",
    "f.write(html_template)\n",
    "f.close()"
   ]
  },
  {
   "cell_type": "code",
   "execution_count": 18,
   "id": "62025496",
   "metadata": {},
   "outputs": [],
   "source": [
    "from html.parser import HTMLParser\n",
    "\n",
    "class HeadingParser(HTMLParser):\n",
    "    \n",
    "    headers = ['h1', 'h2', 'h3', 'h4', 'h5', 'h6']\n",
    "    def handle_starttag(self, tag, attrs):\n",
    "        if tag in self.headers:\n",
    "            print(tag)\n",
    "\n",
    "    def handle_endtag(self, tag):\n",
    "        if tag in self.headers:\n",
    "            print(tag)\n",
    "            \n",
    "    def handle_data(self, data):\n",
    "        print(data)"
   ]
  },
  {
   "cell_type": "code",
   "execution_count": 19,
   "id": "e4a176a7",
   "metadata": {},
   "outputs": [
    {
     "name": "stdout",
     "output_type": "stream",
     "text": [
      "\n",
      "\n",
      "\n",
      "W3C Mission\n",
      "Principles\n",
      "\n",
      "\n",
      "\n",
      "\n",
      "\n"
     ]
    }
   ],
   "source": [
    "infile = open('w3c.html')\n",
    "content = infile.read()\n",
    "infile.close()\n",
    "hp = HeadingParser()\n",
    "hp.feed(content)"
   ]
  },
  {
   "cell_type": "markdown",
   "id": "0e6fc636",
   "metadata": {},
   "source": [
    "# Question 8\n",
    "Write SQL queries on the below database table that return: "
   ]
  },
  {
   "cell_type": "code",
   "execution_count": 190,
   "id": "a37a4d23",
   "metadata": {},
   "outputs": [
    {
     "data": {
      "text/plain": [
       "<sqlite3.Cursor at 0x1b554c6b5e0>"
      ]
     },
     "execution_count": 190,
     "metadata": {},
     "output_type": "execute_result"
    }
   ],
   "source": [
    "import sqlite3\n",
    "con = sqlite3.connect('DataB.db')\n",
    "cur = con.cursor()\n",
    "#code for table\n",
    "cur.execute(\"CREATE TABLE Weather21(City text, Country text, Season text, Temperature float, Rainfall float)\")\n",
    "#value for 1st row\n",
    "cur.execute(\"INSERT INTO Weather21 VALUES ('Mumbai','India','Winter',24.8,5.9)\")"
   ]
  },
  {
   "cell_type": "code",
   "execution_count": 191,
   "id": "f7630f32",
   "metadata": {},
   "outputs": [],
   "source": [
    "# insert values into database\n",
    "cur.execute(\"INSERT INTO Weather21 VALUES ('Mumbai','India','Spring',28.4,16.2)\")\n",
    "cur.execute(\"INSERT INTO Weather21 VALUES ('Mumbai','India','Summer', 27.9, 1549.4)\")\n",
    "cur.execute(\"INSERT INTO Weather21 VALUES ('Mumbai','India','Fall',27.6,346.0)\")\n",
    "cur.execute(\"INSERT INTO Weather21 VALUES ('London','United Kingdom','Winter', 4.2, 207.7 )\")\n",
    "cur.execute(\"INSERT INTO Weather21 VALUES ('London','United Kingdom','Spring', 8.3,169.6 )\")\n",
    "cur.execute(\"INSERT INTO Weather21 VALUES ('London','United Kingdom','Summer',15.7,157.0)\")\n",
    "cur.execute(\"INSERT INTO Weather21 VALUES ('London','United Kingdom','Fall',10.4,218.5)\")\n",
    "cur.execute(\"INSERT INTO Weather21 VALUES ('Cairo','Egypt','Winter', 13.6,16.5 )\")\n",
    "cur.execute(\"INSERT INTO Weather21 VALUES ('Cairo','Egypt','Spring',20.7,6.5 )\")\n",
    "cur.execute(\"INSERT INTO Weather21 VALUES ('Cairo','Egypt','Summer',27.7,0.1)\")\n",
    "cur.execute(\"INSERT INTO Weather21 VALUES ('Cairo','Egypt','Fall',22.2,4.5)\")\n",
    "con.commit()\n"
   ]
  },
  {
   "cell_type": "code",
   "execution_count": 193,
   "id": "0800ebdc",
   "metadata": {},
   "outputs": [
    {
     "data": {
      "text/plain": [
       "[('Mumbai', 'India', 'Winter', 24.8, 5.9),\n",
       " ('Mumbai', 'India', 'Spring', 28.4, 16.2),\n",
       " ('Mumbai', 'India', 'Summer', 27.9, 1549.4),\n",
       " ('Mumbai', 'India', 'Fall', 27.6, 346.0),\n",
       " ('London', 'United Kingdom', 'Winter', 4.2, 207.7),\n",
       " ('London', 'United Kingdom', 'Spring', 8.3, 169.6),\n",
       " ('London', 'United Kingdom', 'Summer', 15.7, 157.0),\n",
       " ('London', 'United Kingdom', 'Fall', 10.4, 218.5),\n",
       " ('Cairo', 'Egypt', 'Winter', 13.6, 16.5),\n",
       " ('Cairo', 'Egypt', 'Spring', 20.7, 6.5),\n",
       " ('Cairo', 'Egypt', 'Summer', 27.7, 0.1),\n",
       " ('Cairo', 'Egypt', 'Fall', 22.2, 4.5)]"
      ]
     },
     "execution_count": 193,
     "metadata": {},
     "output_type": "execute_result"
    }
   ],
   "source": [
    "cur.execute(\"SELECT * FROM Weather21\")\n",
    "cur.fetchall()"
   ]
  },
  {
   "cell_type": "markdown",
   "id": "cc2e767d",
   "metadata": {},
   "source": [
    "# Question 8(a)\n",
    "All the temperature data."
   ]
  },
  {
   "cell_type": "code",
   "execution_count": 194,
   "id": "7aa6ce3b",
   "metadata": {},
   "outputs": [
    {
     "data": {
      "text/plain": [
       "[(24.8,),\n",
       " (28.4,),\n",
       " (27.9,),\n",
       " (27.6,),\n",
       " (4.2,),\n",
       " (8.3,),\n",
       " (15.7,),\n",
       " (10.4,),\n",
       " (13.6,),\n",
       " (20.7,),\n",
       " (27.7,),\n",
       " (22.2,)]"
      ]
     },
     "execution_count": 194,
     "metadata": {},
     "output_type": "execute_result"
    }
   ],
   "source": [
    "import sqlite3\n",
    "con = sqlite3.connect('DataB.db')\n",
    "cur = con.cursor()\n",
    "cur.execute(\"SELECT Temperature FROM Weather21\")\n",
    "cur.fetchall()"
   ]
  },
  {
   "cell_type": "markdown",
   "id": "cf27a63d",
   "metadata": {},
   "source": [
    "# Question 8(b)\n",
    "All the cities, but without repetition."
   ]
  },
  {
   "cell_type": "code",
   "execution_count": 201,
   "id": "64f07ba1",
   "metadata": {},
   "outputs": [
    {
     "data": {
      "text/plain": [
       "[('Cairo', 'Egypt', 'Winter', 13.6, 16.5),\n",
       " ('London', 'United Kingdom', 'Winter', 4.2, 207.7),\n",
       " ('Mumbai', 'India', 'Winter', 24.8, 5.9)]"
      ]
     },
     "execution_count": 201,
     "metadata": {},
     "output_type": "execute_result"
    }
   ],
   "source": [
    "import sqlite3\n",
    "con = sqlite3.connect('DataB.db')\n",
    "cur = con.cursor()\n",
    "cur.execute(\"SELECT * FROM Weather21 GROUP BY City HAVING COUNT (*) > 1;\")\n",
    "cur.fetchall()"
   ]
  },
  {
   "cell_type": "markdown",
   "id": "b8583193",
   "metadata": {},
   "source": [
    "# QUESTION 8(c) \n",
    "All the records for India.\n"
   ]
  },
  {
   "cell_type": "code",
   "execution_count": 198,
   "id": "83501858",
   "metadata": {},
   "outputs": [
    {
     "data": {
      "text/plain": [
       "[('Mumbai', 'India', 'Winter', 24.8, 5.9),\n",
       " ('Mumbai', 'India', 'Spring', 28.4, 16.2),\n",
       " ('Mumbai', 'India', 'Summer', 27.9, 1549.4),\n",
       " ('Mumbai', 'India', 'Fall', 27.6, 346.0)]"
      ]
     },
     "execution_count": 198,
     "metadata": {},
     "output_type": "execute_result"
    }
   ],
   "source": [
    "import sqlite3\n",
    "con = sqlite3.connect('DataB.db')\n",
    "cur = con.cursor()\n",
    "cur.execute(\"SELECT * FROM Weather21 WHERE Country = 'India'\")\n",
    "cur.fetchall()"
   ]
  },
  {
   "cell_type": "markdown",
   "id": "803dfa4f",
   "metadata": {},
   "source": [
    "# Question 8(d)\n",
    "All the Fall records."
   ]
  },
  {
   "cell_type": "code",
   "execution_count": 199,
   "id": "187060d5",
   "metadata": {},
   "outputs": [
    {
     "data": {
      "text/plain": [
       "[('Mumbai', 'India', 'Fall', 27.6, 346.0),\n",
       " ('London', 'United Kingdom', 'Fall', 10.4, 218.5),\n",
       " ('Cairo', 'Egypt', 'Fall', 22.2, 4.5)]"
      ]
     },
     "execution_count": 199,
     "metadata": {},
     "output_type": "execute_result"
    }
   ],
   "source": [
    "import sqlite3\n",
    "con = sqlite3.connect('DataB.db')\n",
    "cur = con.cursor()\n",
    "cur.execute(\"SELECT * FROM Weather21 WHERE Season = 'Fall'\")\n",
    "cur.fetchall()"
   ]
  },
  {
   "cell_type": "markdown",
   "id": "c2ca79b7",
   "metadata": {},
   "source": [
    "# Question 8(e)\n",
    "The city, country, and season for which the average rainfall is between 200 \n",
    "and 400 millimeters.\n"
   ]
  },
  {
   "cell_type": "code",
   "execution_count": 209,
   "id": "ab229ff9",
   "metadata": {},
   "outputs": [
    {
     "data": {
      "text/plain": [
       "[('Mumbai', 'India', 'Fall', 27.6, 346.0),\n",
       " ('London', 'United Kingdom', 'Winter', 4.2, 207.7),\n",
       " ('London', 'United Kingdom', 'Fall', 10.4, 218.5)]"
      ]
     },
     "execution_count": 209,
     "metadata": {},
     "output_type": "execute_result"
    }
   ],
   "source": [
    "import sqlite3\n",
    "con = sqlite3.connect('DataB.db')\n",
    "cur = con.cursor()\n",
    "cur.execute(\"SELECT * FROM Weather21 WHERE Rainfall>200 AND Rainfall<400 \")\n",
    "cur.fetchall()"
   ]
  },
  {
   "cell_type": "markdown",
   "id": "6365eab6",
   "metadata": {},
   "source": [
    "# Question 8 (f)\n",
    "The city and country for which the average Fall temperature is above 20 \n",
    "degrees, in increasing temperature order"
   ]
  },
  {
   "cell_type": "code",
   "execution_count": 216,
   "id": "bca9ced5",
   "metadata": {},
   "outputs": [
    {
     "data": {
      "text/plain": [
       "[('Cairo', 'Egypt', 'Spring', 20.7, 6.5),\n",
       " ('Cairo', 'Egypt', 'Fall', 22.2, 4.5),\n",
       " ('Mumbai', 'India', 'Winter', 24.8, 5.9),\n",
       " ('Mumbai', 'India', 'Fall', 27.6, 346.0),\n",
       " ('Cairo', 'Egypt', 'Summer', 27.7, 0.1),\n",
       " ('Mumbai', 'India', 'Summer', 27.9, 1549.4),\n",
       " ('Mumbai', 'India', 'Spring', 28.4, 16.2)]"
      ]
     },
     "execution_count": 216,
     "metadata": {},
     "output_type": "execute_result"
    }
   ],
   "source": [
    "import sqlite3\n",
    "con = sqlite3.connect('DataB.db')\n",
    "cur = con.cursor()\n",
    "cur.execute(\"SELECT * FROM Weather21 WHERE Temperature>20 ORDER BY Temperature ASC\")\n",
    "cur.fetchall()"
   ]
  },
  {
   "cell_type": "markdown",
   "id": "822f405e",
   "metadata": {},
   "source": [
    "# Question 8(g)\n",
    "The total annual rainfall for Cairo"
   ]
  },
  {
   "cell_type": "code",
   "execution_count": 218,
   "id": "4496774b",
   "metadata": {},
   "outputs": [
    {
     "data": {
      "text/plain": [
       "[(27.6,)]"
      ]
     },
     "execution_count": 218,
     "metadata": {},
     "output_type": "execute_result"
    }
   ],
   "source": [
    "import sqlite3\n",
    "con = sqlite3.connect('DataB.db')\n",
    "cur = con.cursor()\n",
    "cur.execute(\"SELECT SUM(Rainfall) FROM Weather21 WHERE city ='Cairo'\")\n",
    "cur.fetchall()"
   ]
  },
  {
   "cell_type": "markdown",
   "id": "71cced10",
   "metadata": {},
   "source": [
    "# Question 8(h)\n",
    "The total rainfall for each season"
   ]
  },
  {
   "cell_type": "code",
   "execution_count": 230,
   "id": "eea8a3f9",
   "metadata": {},
   "outputs": [
    {
     "data": {
      "text/plain": [
       "[(569.0,), (192.29999999999998,), (1706.5,), (230.1,)]"
      ]
     },
     "execution_count": 230,
     "metadata": {},
     "output_type": "execute_result"
    }
   ],
   "source": [
    "import sqlite3\n",
    "con = sqlite3.connect('DataB.db')\n",
    "cur = con.cursor()\n",
    "cur.execute(\"SELECT SUM(Rainfall) FROM Weather21 GROUP BY Season \")\n",
    "cur.fetchall()"
   ]
  },
  {
   "cell_type": "markdown",
   "id": "3deadca2",
   "metadata": {},
   "source": [
    "# Question 9\n",
    " Suppose list words is defined as follows:>> words = ['The', 'quick', 'brown', 'fox', 'jumps', 'over', 'the', 'lazy', 'dog']\n",
    "\n",
    "Write list comprehension expressions that use list words and generate the following \n",
    "lists:"
   ]
  },
  {
   "cell_type": "code",
   "execution_count": 107,
   "id": "7a1e61a9",
   "metadata": {},
   "outputs": [],
   "source": [
    "words = ['The', 'quick', 'brown', 'fox', 'jumps', 'over', \n",
    "'the', 'lazy', 'dog']\n",
    "#9(a)\n",
    "lst = [element.upper() for element in words]\n",
    "#9(b)\n",
    "lst1 = [element.lower() for element in words]\n",
    "#9(c)\n",
    "lst2 = [len(i) for i in words]\n",
    "#9(d)\n",
    "lst3 = [[i.upper(),i.lower(),len(i)] for i in words]\n",
    "#9(e)\n",
    "lst4 = []\n",
    "for i in words:\n",
    "    if(len(i) >= 4):\n",
    "        lst4.append(i)\n"
   ]
  },
  {
   "cell_type": "markdown",
   "id": "895b529a",
   "metadata": {},
   "source": [
    "# 9(a)\n",
    " ['THE', 'QUICK', 'BROWN', 'FOX', 'JUMPS', 'OVER', 'THE', 'LAZY', 'DOG']\n"
   ]
  },
  {
   "cell_type": "code",
   "execution_count": 88,
   "id": "a00c97b6",
   "metadata": {},
   "outputs": [
    {
     "data": {
      "text/plain": [
       "['THE', 'QUICK', 'BROWN', 'FOX', 'JUMPS', 'OVER', 'THE', 'LAZY', 'DOG']"
      ]
     },
     "execution_count": 88,
     "metadata": {},
     "output_type": "execute_result"
    }
   ],
   "source": [
    "lst"
   ]
  },
  {
   "cell_type": "markdown",
   "id": "e6e4278e",
   "metadata": {},
   "source": [
    "# 9(b)\n",
    " ['the', 'quick', 'brown', 'fox', 'jumps', 'over', 'the', 'lazy', 'dog']\n",
    "\n"
   ]
  },
  {
   "cell_type": "code",
   "execution_count": 89,
   "id": "6f5216fa",
   "metadata": {},
   "outputs": [
    {
     "data": {
      "text/plain": [
       "['the', 'quick', 'brown', 'fox', 'jumps', 'over', 'the', 'lazy', 'dog']"
      ]
     },
     "execution_count": 89,
     "metadata": {},
     "output_type": "execute_result"
    }
   ],
   "source": [
    "lst1"
   ]
  },
  {
   "cell_type": "markdown",
   "id": "95643395",
   "metadata": {},
   "source": [
    "# 9(c)\n",
    " [3, 5, 5, 3, 5, 4, 3, 4, 3] (the list of lengths of words in list words).\n",
    "\n"
   ]
  },
  {
   "cell_type": "code",
   "execution_count": 90,
   "id": "4486e2ce",
   "metadata": {},
   "outputs": [
    {
     "data": {
      "text/plain": [
       "[3, 5, 5, 3, 5, 4, 3, 4, 3]"
      ]
     },
     "execution_count": 90,
     "metadata": {},
     "output_type": "execute_result"
    }
   ],
   "source": [
    "lst2"
   ]
  },
  {
   "cell_type": "markdown",
   "id": "77dbef77",
   "metadata": {},
   "source": [
    "# 9(d)\n",
    " [['THE', 'the', 3], ['QUICK', 'quick', 5], ['BROWN', \n",
    "'brown', 5], ['FOX', 'fox', 3], ['JUMPS', 'jumps', 5], \n",
    "['OVER', 'over', 4], ['THE', 'the', 3], ['LAZY', 'lazy', \n",
    "4], ['DOG', 'dog', 3]] (the list containing a list for every word of list \n",
    "words, where each list contains the word in uppercase and lowercase and the \n",
    "length of the word.)\n"
   ]
  },
  {
   "cell_type": "code",
   "execution_count": 91,
   "id": "12835e5b",
   "metadata": {},
   "outputs": [
    {
     "data": {
      "text/plain": [
       "[['THE', 'the', 3],\n",
       " ['QUICK', 'quick', 5],\n",
       " ['BROWN', 'brown', 5],\n",
       " ['FOX', 'fox', 3],\n",
       " ['JUMPS', 'jumps', 5],\n",
       " ['OVER', 'over', 4],\n",
       " ['THE', 'the', 3],\n",
       " ['LAZY', 'lazy', 4],\n",
       " ['DOG', 'dog', 3]]"
      ]
     },
     "execution_count": 91,
     "metadata": {},
     "output_type": "execute_result"
    }
   ],
   "source": [
    "lst3"
   ]
  },
  {
   "cell_type": "markdown",
   "id": "21f71058",
   "metadata": {},
   "source": [
    "# 9(e)\n",
    "['The', 'quick', 'brown', 'fox', 'jumps', 'over', 'the', 'lazy', 'dog'] (the list of words in list words containing 4 or more characters.)\n",
    " \n"
   ]
  },
  {
   "cell_type": "code",
   "execution_count": 108,
   "id": "db10eb5b",
   "metadata": {},
   "outputs": [
    {
     "data": {
      "text/plain": [
       "['quick', 'brown', 'jumps', 'over', 'lazy']"
      ]
     },
     "execution_count": 108,
     "metadata": {},
     "output_type": "execute_result"
    }
   ],
   "source": [
    "lst4"
   ]
  }
 ],
 "metadata": {
  "kernelspec": {
   "display_name": "Python 3",
   "language": "python",
   "name": "python3"
  },
  "language_info": {
   "codemirror_mode": {
    "name": "ipython",
    "version": 3
   },
   "file_extension": ".py",
   "mimetype": "text/x-python",
   "name": "python",
   "nbconvert_exporter": "python",
   "pygments_lexer": "ipython3",
   "version": "3.8.8"
  }
 },
 "nbformat": 4,
 "nbformat_minor": 5
}
